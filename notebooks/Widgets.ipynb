{
 "cells": [
  {
   "cell_type": "markdown",
   "metadata": {},
   "source": [
    "# Widgets\n",
    "One of the best new features of the IPython Notebook is its rich [widget system](http://nbviewer.ipython.org/github/ipython/ipython/blob/master/examples/Interactive%20Widgets/Index.ipynb). `hy_kernel` can directly use all of the IPython widgets.\n",
    "> _NOTE: the IPython semantics of displaying a widget by having it be the last line of a cell doesn't work. Looking into this! In the meantime, use `IPython.display.display`!_"
   ]
  },
  {
   "cell_type": "code",
   "execution_count": 1,
   "metadata": {},
   "outputs": [],
   "source": [
    "(import [IPython.html [widgets]]\n",
    "        [IPython.display [display]]\n",
    "        [IPython.utils [traitlets]])"
   ]
  },
  {
   "cell_type": "markdown",
   "metadata": {},
   "source": [
    "The simplest, albeit pointless, invocation."
   ]
  },
  {
   "cell_type": "code",
   "execution_count": 2,
   "metadata": {},
   "outputs": [],
   "source": [
    "(widgets.IntText)"
   ]
  },
  {
   "cell_type": "markdown",
   "metadata": {},
   "source": [
    "Naming a widget."
   ]
  },
  {
   "cell_type": "code",
   "execution_count": 3,
   "metadata": {},
   "outputs": [],
   "source": [
    "(setv x (widgets.IntText))\n",
    "(display x)"
   ]
  },
  {
   "cell_type": "markdown",
   "metadata": {},
   "source": [
    "The binding is bidrectional."
   ]
  },
  {
   "cell_type": "code",
   "execution_count": 4,
   "metadata": {},
   "outputs": [
    {
     "data": {
      "text/plain": [
       "1"
      ]
     },
     "execution_count": 4,
     "metadata": {},
     "output_type": "execute_result"
    }
   ],
   "source": [
    "(setv x.value 1)"
   ]
  },
  {
   "cell_type": "markdown",
   "metadata": {},
   "source": [
    "Using `widgets.interact`, a simple GUI generator for functions."
   ]
  },
  {
   "cell_type": "code",
   "execution_count": 5,
   "metadata": {},
   "outputs": [
    {
     "name": "stdout",
     "output_type": "stream",
     "text": [
      "1\n"
     ]
    },
    {
     "data": {
      "text/plain": [
       "<function __main__._hy_anon_fn_1>"
      ]
     },
     "execution_count": 5,
     "metadata": {},
     "output_type": "execute_result"
    }
   ],
   "source": [
    "(apply widgets.interact\n",
    " [(fn [x y] (print (* x y)))]\n",
    " {\"x\" 1 \"y\" 1})"
   ]
  },
  {
   "cell_type": "markdown",
   "metadata": {},
   "source": [
    "Two linked widgets."
   ]
  },
  {
   "cell_type": "code",
   "execution_count": 6,
   "metadata": {},
   "outputs": [],
   "source": [
    "(setv x (widgets.IntSlider))\n",
    "(setv y (widgets.IntSlider))\n",
    "(traitlets.link (, x \"value\") (, y \"value\"))\n",
    "(display x y)"
   ]
  },
  {
   "cell_type": "markdown",
   "metadata": {},
   "source": [
    "A button."
   ]
  },
  {
   "cell_type": "code",
   "execution_count": 7,
   "metadata": {},
   "outputs": [],
   "source": [
    "(setv btn (apply widgets.Button [] {\"description\" \"Click me\"}))\n",
    "(btn.on-click (fn [btn] (setv x.value (+ x.value 10))))\n",
    "(display btn)"
   ]
  }
 ],
 "metadata": {
  "kernelspec": {
   "display_name": "Hy",
   "language": "hy",
   "name": "hy"
  },
  "language_info": {
   "codemirror_mode": {
    "name": "hy"
   },
   "mimetype": "text/x-hylang",
   "name": "hy",
   "pygments_lexer": "ipython3"
  }
 },
 "nbformat": 4,
 "nbformat_minor": 1
}
