{
 "cells": [
  {
   "cell_type": "markdown",
   "metadata": {},
   "source": [
    "> _Copied from the [hy documentation](http://docs.hylang.org/en/latest/tutorial.html)._"
   ]
  },
  {
   "cell_type": "markdown",
   "metadata": {},
   "source": [
    "# Tutorial"
   ]
  },
  {
   "cell_type": "markdown",
   "metadata": {},
   "source": [
    "<img src=\"http://docs.hylang.org/en/latest/_images/hy-logo-small.png\" style=\"float:right\"/>\n",
    "\n",
    "Welcome to the Hy tutorial!\n",
    "\n",
    "In a nutshell, Hy is a lisp dialect, but one that converts its structure into Python... literally a conversion into Python’s abstract syntax tree! (Or to put it in more crude terms, Hy is lisp-stick on a python!)\n",
    "\n",
    "This is pretty cool because it means Hy is several things:\n",
    "- A lisp that feels very pythonic\n",
    "- For lispers, a great way to use lisp’s crazy powers but in the wide world of Python’s libraries (why yes, you now can write a Django application in lisp!)\n",
    "- For pythonistas, a great way to start exploring lisp, from the comfort of python!\n",
    "- For everyone: a pleasant language that has a lot of neat ideas!"
   ]
  },
  {
   "cell_type": "markdown",
   "metadata": {},
   "source": [
    "## Basic intro to lisp for pythonistas"
   ]
  },
  {
   "cell_type": "markdown",
   "metadata": {},
   "source": [
    "Okay, maybe you’ve never used lisp before, but you’ve used python!\n",
    "\n",
    "A “hello world” in hy is actually super simple. Let’s try it:"
   ]
  },
  {
   "cell_type": "code",
   "execution_count": null,
   "metadata": {},
   "outputs": [],
   "source": []
  },
  {
   "cell_type": "code",
   "execution_count": null,
   "metadata": {},
   "outputs": [],
   "source": []
  },
  {
   "cell_type": "code",
   "execution_count": null,
   "metadata": {},
   "outputs": [],
   "source": []
  },
  {
   "cell_type": "code",
   "execution_count": null,
   "metadata": {},
   "outputs": [],
   "source": []
  },
  {
   "cell_type": "code",
   "execution_count": 1,
   "metadata": {},
   "outputs": [
    {
     "name": "stdout",
     "output_type": "stream",
     "text": [
      "hello world aaa\n"
     ]
    },
    {
     "name": "stderr",
     "output_type": "stream",
     "text": [
      "/data/data/com.termux/files/usr/lib/python3.6/site-packages/hy_kernel/hy_kernel.py:118: DeprecationWarning: astor.codegen is deprecated.  Please use astor.code_gen.\n",
      "  return astor.codegen.to_source(_ast_for_print)\n"
     ]
    },
    {
     "data": {
      "text/plain": [
       "[None]"
      ]
     },
     "execution_count": 1,
     "metadata": {},
     "output_type": "execute_result"
    }
   ],
   "source": [
    "(print \"hello world aaa\")"
   ]
  },
  {
   "cell_type": "markdown",
   "metadata": {},
   "source": [
    "See? Easy! As you may have guessed, this is the same as the python version of:\n",
    "```python\n",
    "print \"hello world\"\n",
    "```"
   ]
  },
  {
   "cell_type": "markdown",
   "metadata": {},
   "source": [
    "To add up some super simple math, we could do:"
   ]
  },
  {
   "cell_type": "code",
   "execution_count": 2,
   "metadata": {},
   "outputs": [
    {
     "data": {
      "text/plain": [
       "4L"
      ]
     },
     "execution_count": 2,
     "metadata": {},
     "output_type": "execute_result"
    }
   ],
   "source": [
    "(+ 1 3)"
   ]
  },
  {
   "cell_type": "markdown",
   "metadata": {},
   "source": [
    "Which would return 4 and would be the equivalent of:\n",
    "```python\n",
    "1 + 3\n",
    "```"
   ]
  },
  {
   "cell_type": "markdown",
   "metadata": {},
   "source": [
    "What you’ll notice is that the first item in the list is the function being called and the rest of the arguments are the arguments being passed in. In fact, in hy (as with most lisps) we can pass in multiple arguments to the plus operator:"
   ]
  },
  {
   "cell_type": "code",
   "execution_count": 3,
   "metadata": {},
   "outputs": [
    {
     "data": {
      "text/plain": [
       "59L"
      ]
     },
     "execution_count": 3,
     "metadata": {},
     "output_type": "execute_result"
    }
   ],
   "source": [
    "(+ 1 3 55)"
   ]
  },
  {
   "cell_type": "markdown",
   "metadata": {},
   "source": [
    "Which would return 59.\n",
    "\n",
    "Maybe you’ve heard of lisp before but don’t know much about it. Lisp isn’t as hard as you might think, and hy inherits from python, so hy is a great way to start learning lisp. The main thing that’s obvious about lisp is that there’s a lot of parentheses. This might seem confusing at first, but it isn’t so hard. Let’s look at some simple math that’s wrapped in a bunch of parentheses that we could enter into the hy interpreter:"
   ]
  },
  {
   "cell_type": "code",
   "execution_count": 3,
   "metadata": {},
   "outputs": [
    {
     "ename": "HyMacroExpansionError",
     "evalue": "  File \"None\", line 1, column 6\n\n  (let result (- (/ (+ 1 3 88) 2) 8))\n       ^-----^\nHyMacroExpansionError: let lexical context must be a list\n\n",
     "output_type": "error",
     "traceback": [
      "\u001b[1;31mHyMacroExpansionError\u001b[0m\u001b[1;31m:\u001b[0m   File \"None\", line 1, column 6\n\n  (let result (- (/ (+ 1 3 88) 2) 8))\n       ^-----^\nHyMacroExpansionError: let lexical context must be a list\n\n\n"
     ]
    }
   ],
   "source": [
    "(let result (- (/ (+ 1 3 88) 2) 8))"
   ]
  },
  {
   "cell_type": "markdown",
   "metadata": {},
   "source": [
    "This would return 38. But why? Well, we could look at the equivalent expression in python:\n",
    "```python\n",
    "result = ((1 + 3 + 88) / 2) - 8\n",
    "```"
   ]
  },
  {
   "cell_type": "markdown",
   "metadata": {},
   "source": [
    "If you were to try to figure out how the above were to work in python, you’d of course figure out the results by solving each inner parenthesis. That’s the same basic idea in hy. Let’s try this exercise first in python:\n",
    "```python\n",
    "result = ((1 + 3 + 88) / 2) - 8\n",
    "# simplified to...\n",
    "result = (92 / 2) - 8\n",
    "# simplified to...\n",
    "result = 46 - 8\n",
    "# simplified to...\n",
    "result = 38\n",
    "```"
   ]
  },
  {
   "cell_type": "markdown",
   "metadata": {},
   "source": [
    "Now let’s try the same thing in hy:"
   ]
  },
  {
   "cell_type": "code",
   "execution_count": 4,
   "metadata": {
    "collapsed": true
   },
   "outputs": [],
   "source": [
    "(setv result (- (/ (+ 1 3 88) 2) 8))\n",
    "; simplified to...\n",
    "(setv result (- (/ 92 2) 8))\n",
    "; simplified to...\n",
    "(setv result (- 46 8))\n",
    "; simplified to...\n",
    "(setv result 38)"
   ]
  },
  {
   "cell_type": "markdown",
   "metadata": {},
   "source": [
    "As you probably guessed, this last expression with “setv” means to assign the variable “result” to 38.\n",
    "\n",
    "See? Not too hard!\n",
    "\n",
    "This is the basic premise of lisp... lisp stands for “list processing”... this means that the structure of the program is actually lists of lists. (If you’re familiar with python lists, imagine the entire same structure as above but with square brackets instead, any you’ll be able to see the structure above as both a program and a datastructure.) This is easier to understand with more examples, so let’s write a simple python program and test it and then show the equivalent hy program:\n",
    "```python\n",
    "def simple_conversation():\n",
    "    print \"Hello!  I'd like to get to know you.  Tell me about yourself!\"\n",
    "    name = raw_input(\"What is your name? \")\n",
    "    age = raw_input(\"What is your age? \")\n",
    "    print \"Hello \" + name + \"!  I see you are \" + age + \" years old.\"\n",
    "\n",
    "simple_conversation()\n",
    "```\n",
    "\n",
    "If we ran this program, it might go like:\n",
    "\n",
    "```\n",
    "Hello!  I'd like to get to know you.  Tell me about yourself!\n",
    "What is your name? Gary\n",
    "What is your age? 38\n",
    "Hello Gary!  I see you are 38 years old.\n",
    "```\n",
    "\n",
    "Now let’s look at the equivalent hy program:"
   ]
  },
  {
   "cell_type": "code",
   "execution_count": 5,
   "metadata": {},
   "outputs": [
    {
     "ename": "SyntaxError",
     "evalue": "invalid syntax (<ipython-input-5-a64b43c88e82>, line 7)",
     "output_type": "error",
     "traceback": [
      "\u001b[1;36m  File \u001b[1;32m\"<ipython-input-5-a64b43c88e82>\"\u001b[1;36m, line \u001b[1;32m7\u001b[0m\n\u001b[1;33m    return print(((((u'Hello ' + name) + u'!  I see you are ') + age) + u' years old.'))\u001b[0m\n\u001b[1;37m               ^\u001b[0m\n\u001b[1;31mSyntaxError\u001b[0m\u001b[1;31m:\u001b[0m invalid syntax\n"
     ]
    }
   ],
   "source": [
    "(defn simple-conversation []\n",
    "   (print \"Hello!  I'd like to get to know you.  Tell me about yourself!\")\n",
    "   (setv name (raw_input \"What is your name? \"))\n",
    "   (setv age (raw_input \"What is your age? \"))\n",
    "   (print (+ \"Hello \" name \"!  I see you are \"\n",
    "              age \" years old.\")))\n",
    "\n",
    "(simple-conversation)"
   ]
  },
  {
   "cell_type": "markdown",
   "metadata": {},
   "source": [
    "If you look at the above program, as long as you remember that the first element in each list of the program is the function (or macro... we’ll get to those later) being called and that the rest are the arguments, it’s pretty easy to figure out what this all means. (As you probably also guessed, defn is the hy method of defining methods.)\n",
    "\n",
    "Still, lots of people find this confusing at first because there’s so many parentheses, but there are plenty of things that can help make this easier: keep indentation nice and use an editor with parenthesis matching (this will help you figure out what each parenthesis pairs up with) and things will start to feel comfortable.\n",
    "\n",
    "There are some advantages to having a code structure that’s actually a very simple datastructure as the core of lisp is based on. For one thing, it means that your programs are easy to parse and that the entire actual structure of the program is very clearly exposed to you. (There’s an extra step in hy where the structure you see is converted to python’s own representations... in more “pure” lisps such as common lisp or emacs lisp, the data structure you see for the code and the data structure that is executed is much more literally close.)\n",
    "\n",
    "Another implication of this is macros: if a program’s structure is a simple data structure, that means you can write code that can write code very easily, meaning that implementing entirely new language features can be very fast. Previous to hy, this wasn’t very possible for python programmers... now you too can make use of macros’ incredible power (just be careful to not aim them footward)!"
   ]
  },
  {
   "cell_type": "markdown",
   "metadata": {},
   "source": [
    "## Hy is a Lisp flavored Python"
   ]
  },
  {
   "cell_type": "markdown",
   "metadata": {},
   "source": [
    "Hy converts to Python’s own abstract syntax tree, so you’ll soon start to find that all the familiar power of python is at your fingertips.\n",
    "\n",
    "You have full access to Python’s data types and standard library in Hy. Let’s experiment with this in the hy interpreter:"
   ]
  },
  {
   "cell_type": "code",
   "execution_count": 6,
   "metadata": {},
   "outputs": [
    {
     "data": {
      "text/plain": [
       "[1L, 2L, 3L]"
      ]
     },
     "execution_count": 6,
     "metadata": {},
     "output_type": "execute_result"
    }
   ],
   "source": [
    "[1 2 3]"
   ]
  },
  {
   "cell_type": "code",
   "execution_count": 7,
   "metadata": {},
   "outputs": [
    {
     "data": {
      "text/plain": [
       "{u'cat': u'meow', u'dog': u'bark'}"
      ]
     },
     "execution_count": 7,
     "metadata": {},
     "output_type": "execute_result"
    }
   ],
   "source": [
    "{\"dog\" \"bark\"\n",
    " \"cat\" \"meow\"}"
   ]
  },
  {
   "cell_type": "code",
   "execution_count": 8,
   "metadata": {},
   "outputs": [
    {
     "data": {
      "text/plain": [
       "(1L, 2L, 3L)"
      ]
     },
     "execution_count": 8,
     "metadata": {},
     "output_type": "execute_result"
    }
   ],
   "source": [
    "(, 1 2 3)"
   ]
  },
  {
   "cell_type": "markdown",
   "metadata": {},
   "source": [
    "If you are familiar with other lisps, you may be interested that Hy supports the Common Lisp method of quoting:"
   ]
  },
  {
   "cell_type": "code",
   "execution_count": 9,
   "metadata": {},
   "outputs": [
    {
     "data": {
      "text/plain": [
       "(1L 2L 3L)"
      ]
     },
     "execution_count": 9,
     "metadata": {},
     "output_type": "execute_result"
    }
   ],
   "source": [
    "'(1 2 3)"
   ]
  },
  {
   "cell_type": "markdown",
   "metadata": {},
   "source": [
    "You also have access to all the builtin types’ nice methods:"
   ]
  },
  {
   "cell_type": "code",
   "execution_count": 10,
   "metadata": {},
   "outputs": [
    {
     "data": {
      "text/plain": [
       "u'fooooo'"
      ]
     },
     "execution_count": 10,
     "metadata": {},
     "output_type": "execute_result"
    }
   ],
   "source": [
    "(.strip \" fooooo   \")"
   ]
  },
  {
   "cell_type": "markdown",
   "metadata": {},
   "source": [
    "What’s this? Yes indeed, this is precisely the same as:\n",
    "\n",
    "```python\n",
    "\" fooooo   \".strip()\n",
    "```\n",
    "\n",
    "That’s right... lisp with dot notation! If we have this string assigned as a variable, we can also do the following:"
   ]
  },
  {
   "cell_type": "code",
   "execution_count": 11,
   "metadata": {},
   "outputs": [
    {
     "data": {
      "text/plain": [
       "u'fooooo'"
      ]
     },
     "execution_count": 11,
     "metadata": {},
     "output_type": "execute_result"
    }
   ],
   "source": [
    "(setv this-string \" fooooo   \")\n",
    "(this-string.strip)"
   ]
  },
  {
   "cell_type": "markdown",
   "metadata": {},
   "source": [
    "What about conditionals?:"
   ]
  },
  {
   "cell_type": "code",
   "execution_count": 15,
   "metadata": {},
   "outputs": [
    {
     "ename": "SyntaxError",
     "evalue": "invalid syntax (<ipython-input-15-3d2df034a170>, line 1)",
     "output_type": "error",
     "traceback": [
      "\u001b[1;36m  File \u001b[1;32m\"<ipython-input-15-3d2df034a170>\"\u001b[1;36m, line \u001b[1;32m1\u001b[0m\n\u001b[1;33m    (print(u'this is if true') if try_some_thing() else print(u'this is if false'))\u001b[0m\n\u001b[1;37m         ^\u001b[0m\n\u001b[1;31mSyntaxError\u001b[0m\u001b[1;31m:\u001b[0m invalid syntax\n"
     ]
    }
   ],
   "source": [
    "(if (try-some-thing)\n",
    "  (print \"this is if true\")\n",
    "  (print \"this is if false\"))"
   ]
  },
  {
   "cell_type": "markdown",
   "metadata": {},
   "source": [
    "As you can tell above, the first argument to if is a truth test, the second argument is a body if true, and the third argument (optional!) is if false (ie, “else”!).\n",
    "\n",
    "If you need to do more complex conditionals, you’ll find that you don’t have elif available in hy. Instead, you should use something called “cond”. In python, you might do something like:\n",
    "\n",
    "```python\n",
    "somevar = 33\n",
    "if somevar > 50:\n",
    "    print \"That variable is too big!\"\n",
    "elif somevar < 10:\n",
    "    print \"That variable is too small!\"\n",
    "else:\n",
    "    print \"That variable is jussssst right!\"\n",
    "```\n",
    "\n",
    "In hy, you would do:"
   ]
  },
  {
   "cell_type": "code",
   "execution_count": 16,
   "metadata": {},
   "outputs": [
    {
     "ename": "SyntaxError",
     "evalue": "invalid syntax (<ipython-input-16-399ee2383513>, line 2)",
     "output_type": "error",
     "traceback": [
      "\u001b[1;36m  File \u001b[1;32m\"<ipython-input-16-399ee2383513>\"\u001b[1;36m, line \u001b[1;32m2\u001b[0m\n\u001b[1;33m    (print(u'That variable is too big!') if (somevar > 50L) else (print(u'That variable is too small!') if (somevar < 10L) else (print(u'That variable is jussssst right!') if True else None)))\u001b[0m\n\u001b[1;37m         ^\u001b[0m\n\u001b[1;31mSyntaxError\u001b[0m\u001b[1;31m:\u001b[0m invalid syntax\n"
     ]
    }
   ],
   "source": [
    "(setv somevar 33)\n",
    "(cond\n",
    " [(> somevar 50)\n",
    "  (print \"That variable is too big!\")]\n",
    " [(< somevar 10)\n",
    "  (print \"That variable is too small!\")]\n",
    " [true\n",
    "  (print \"That variable is jussssst right!\")])"
   ]
  },
  {
   "cell_type": "markdown",
   "metadata": {},
   "source": [
    "What you’ll notice is that cond switches off between a some statement that is executed and checked conditionally for true or falseness, and then a bit of code to execute if it turns out to be true. You’ll also notice that the “else” is implemented at the end simply by checking for “true”... that’s because true will always be true, so if we get this far, we’ll always run that one!\n",
    "\n",
    "You might notice above that if you have code like:"
   ]
  },
  {
   "cell_type": "code",
   "execution_count": 17,
   "metadata": {},
   "outputs": [
    {
     "ename": "NameError",
     "evalue": "name 'some_condition' is not defined",
     "output_type": "error",
     "traceback": [
      "\u001b[1;31m---------------------------------------------------------------------------\u001b[0m",
      "\u001b[1;31mNameError\u001b[0m                                 Traceback (most recent call last)",
      "\u001b[1;32m<ipython-input-17-4b98f46e9502>\u001b[0m in \u001b[0;36m<module>\u001b[1;34m()\u001b[0m\n\u001b[1;32m----> 1\u001b[1;33m \u001b[1;33m(\u001b[0m\u001b[0mbody_if_true\u001b[0m\u001b[1;33m(\u001b[0m\u001b[1;33m)\u001b[0m \u001b[1;32mif\u001b[0m \u001b[0msome_condition\u001b[0m \u001b[1;32melse\u001b[0m \u001b[0mbody_if_false\u001b[0m\u001b[1;33m(\u001b[0m\u001b[1;33m)\u001b[0m\u001b[1;33m)\u001b[0m\u001b[1;33m\u001b[0m\u001b[0m\n\u001b[0m",
      "\u001b[1;31mNameError\u001b[0m: name 'some_condition' is not defined"
     ]
    }
   ],
   "source": [
    "(if some-condition\n",
    "  (body-if-true)\n",
    "  (body-if-false))"
   ]
  },
  {
   "cell_type": "markdown",
   "metadata": {},
   "source": [
    "But wait! What if you want to execute more than one statement in the body of one of these?\n",
    "\n",
    "You can do the following:"
   ]
  },
  {
   "cell_type": "code",
   "execution_count": 18,
   "metadata": {},
   "outputs": [
    {
     "ename": "SyntaxError",
     "evalue": "invalid syntax (<ipython-input-18-e3d9192aab56>, line 3)",
     "output_type": "error",
     "traceback": [
      "\u001b[1;36m  File \u001b[1;32m\"<ipython-input-18-e3d9192aab56>\"\u001b[1;36m, line \u001b[1;32m3\u001b[0m\n\u001b[1;33m    _hy_anon_var_1 = print(u\"and why not, let's keep talking about how true it is!\")\u001b[0m\n\u001b[1;37m                         ^\u001b[0m\n\u001b[1;31mSyntaxError\u001b[0m\u001b[1;31m:\u001b[0m invalid syntax\n"
     ]
    }
   ],
   "source": [
    "(if (try-some-thing)\n",
    "  (do\n",
    "    (print \"this is if true\")\n",
    "    (print \"and why not, let's keep talking about how true it is!\"))\n",
    "  (print \"this one's still simply just false\"))"
   ]
  },
  {
   "cell_type": "markdown",
   "metadata": {},
   "source": [
    "You can see that we used “do” to wrap multiple statements. If you’re familiar with other lisps, this is the equivalent of “progn” elsewhere.\n",
    "\n",
    "Comments start with semicolons:"
   ]
  },
  {
   "cell_type": "code",
   "execution_count": 19,
   "metadata": {},
   "outputs": [
    {
     "name": "stdout",
     "output_type": "stream",
     "text": [
      "this will run\n"
     ]
    },
    {
     "data": {
      "text/plain": [
       "6L"
      ]
     },
     "execution_count": 19,
     "metadata": {},
     "output_type": "execute_result"
    }
   ],
   "source": [
    "(print \"this will run\")\n",
    "; (print \"but this will not\")\n",
    "(+ 1 2 3)  ; we'll execute the addition, but not this comment!"
   ]
  },
  {
   "cell_type": "markdown",
   "metadata": {},
   "source": [
    "Looping is not hard but has a kind of special structure. In python, we might do:\n",
    "\n",
    "```python\n",
    "for i in range(10):\n",
    "    print \"'i' is now at \" + str(i)\n",
    "```\n",
    "\n",
    "The equivalent in hy would be:"
   ]
  },
  {
   "cell_type": "code",
   "execution_count": 19,
   "metadata": {},
   "outputs": [
    {
     "ename": "HyMacroExpansionError",
     "evalue": "  File \"None\", line 1, column 1\n\n  (for [i (range 10)]\n  ^------------------\n    (print (+ \"'i' is now at \" (str i))))\n  --------------------------------------^\nHyMacroExpansionError: `for' name 'is_odd' is not defined\n\n",
     "output_type": "error",
     "traceback": [
      "\u001b[1;31mHyMacroExpansionError\u001b[0m\u001b[1;31m:\u001b[0m   File \"None\", line 1, column 1\n\n  (for [i (range 10)]\n  ^------------------\n    (print (+ \"'i' is now at \" (str i))))\n  --------------------------------------^\nHyMacroExpansionError: `for' name 'is_odd' is not defined\n\n\n"
     ]
    }
   ],
   "source": [
    "(for [i (range 10)]\n",
    "  (print (+ \"'i' is now at \" (str i))))"
   ]
  },
  {
   "cell_type": "markdown",
   "metadata": {},
   "source": [
    "You can also import and make use of various python libraries. For example:"
   ]
  },
  {
   "cell_type": "code",
   "execution_count": 20,
   "metadata": {},
   "outputs": [
    {
     "ename": "SyntaxError",
     "evalue": "invalid syntax (<ipython-input-20-bcd380231dce>, line 2)",
     "output_type": "error",
     "traceback": [
      "\u001b[1;36m  File \u001b[1;32m\"<ipython-input-20-bcd380231dce>\"\u001b[1;36m, line \u001b[1;32m2\u001b[0m\n\u001b[1;33m    (os.mkdir(u'/tmp/somedir/anotherdir') if os.path.isdir(u'/tmp/somedir') else print(u\"Hey, that path isn't there!\"))\u001b[0m\n\u001b[1;37m                                                                                     ^\u001b[0m\n\u001b[1;31mSyntaxError\u001b[0m\u001b[1;31m:\u001b[0m invalid syntax\n"
     ]
    }
   ],
   "source": [
    "(import os)\n",
    "\n",
    "(if (os.path.isdir \"/tmp/somedir\")\n",
    "  (os.mkdir \"/tmp/somedir/anotherdir\")\n",
    "  (print \"Hey, that path isn't there!\"))"
   ]
  },
  {
   "cell_type": "markdown",
   "metadata": {},
   "source": [
    "Python’s context managers (‘with’ statements) are used like this:"
   ]
  },
  {
   "cell_type": "code",
   "execution_count": 20,
   "metadata": {},
   "outputs": [
    {
     "ename": "HyMacroExpansionError",
     "evalue": "  File \"None\", line 1, column 1\n\n  (with [[f (open \"/tmp/data.in\")]]\n  ^--------------------------------\n    (print (.read f)))\n  -------------------^\nHyMacroExpansionError: `with' name 'is_empty' is not defined\n\n",
     "output_type": "error",
     "traceback": [
      "\u001b[1;31mHyMacroExpansionError\u001b[0m\u001b[1;31m:\u001b[0m   File \"None\", line 1, column 1\n\n  (with [[f (open \"/tmp/data.in\")]]\n  ^--------------------------------\n    (print (.read f)))\n  -------------------^\nHyMacroExpansionError: `with' name 'is_empty' is not defined\n\n\n"
     ]
    }
   ],
   "source": [
    "(with [[f (open \"/tmp/data.in\")]]\n",
    "  (print (.read f)))"
   ]
  },
  {
   "cell_type": "markdown",
   "metadata": {},
   "source": [
    "which is equivalent to:\n",
    "\n",
    "```python\n",
    "with open(\"/tmp/data.in\") as f:\n",
    "    print f.read()\n",
    "```\n",
    "\n",
    "And yes, we do have lisp comprehensions! In Python you might do:\n",
    "\n",
    "```python\n",
    "odds_squared = [\n",
    "  pow(num, 2)\n",
    "  for num in range(100)\n",
    "  if num % 2 == 1]\n",
    "```\n",
    "\n",
    "In hy, you could do these like:"
   ]
  },
  {
   "cell_type": "code",
   "execution_count": 21,
   "metadata": {},
   "outputs": [
    {
     "data": {
      "text/plain": [
       "[(0, u'A'),\n",
       " (0, u'B'),\n",
       " (0, u'C'),\n",
       " (0, u'D'),\n",
       " (0, u'E'),\n",
       " (0, u'F'),\n",
       " (0, u'G'),\n",
       " (0, u'H'),\n",
       " (1, u'A'),\n",
       " (1, u'B'),\n",
       " (1, u'C'),\n",
       " (1, u'D'),\n",
       " (1, u'E'),\n",
       " (1, u'F'),\n",
       " (1, u'G'),\n",
       " (1, u'H'),\n",
       " (2, u'A'),\n",
       " (2, u'B'),\n",
       " (2, u'C'),\n",
       " (2, u'D'),\n",
       " (2, u'E'),\n",
       " (2, u'F'),\n",
       " (2, u'G'),\n",
       " (2, u'H'),\n",
       " (3, u'A'),\n",
       " (3, u'B'),\n",
       " (3, u'C'),\n",
       " (3, u'D'),\n",
       " (3, u'E'),\n",
       " (3, u'F'),\n",
       " (3, u'G'),\n",
       " (3, u'H'),\n",
       " (4, u'A'),\n",
       " (4, u'B'),\n",
       " (4, u'C'),\n",
       " (4, u'D'),\n",
       " (4, u'E'),\n",
       " (4, u'F'),\n",
       " (4, u'G'),\n",
       " (4, u'H'),\n",
       " (5, u'A'),\n",
       " (5, u'B'),\n",
       " (5, u'C'),\n",
       " (5, u'D'),\n",
       " (5, u'E'),\n",
       " (5, u'F'),\n",
       " (5, u'G'),\n",
       " (5, u'H'),\n",
       " (6, u'A'),\n",
       " (6, u'B'),\n",
       " (6, u'C'),\n",
       " (6, u'D'),\n",
       " (6, u'E'),\n",
       " (6, u'F'),\n",
       " (6, u'G'),\n",
       " (6, u'H'),\n",
       " (7, u'A'),\n",
       " (7, u'B'),\n",
       " (7, u'C'),\n",
       " (7, u'D'),\n",
       " (7, u'E'),\n",
       " (7, u'F'),\n",
       " (7, u'G'),\n",
       " (7, u'H')]"
      ]
     },
     "execution_count": 21,
     "metadata": {},
     "output_type": "execute_result"
    }
   ],
   "source": [
    "(setv odds-squared\n",
    "  (list-comp\n",
    "    (pow num 2)\n",
    "    (num (range 100))\n",
    "    (= (% num 2) 1)))\n",
    "\n",
    "; And, an example stolen shamelessly from a Clojure page:\n",
    "; Let's list all the blocks of a Chessboard:\n",
    "\n",
    "(list-comp\n",
    "  (, x y)\n",
    "  (x (range 8)\n",
    "   y \"ABCDEFGH\"))"
   ]
  },
  {
   "cell_type": "markdown",
   "metadata": {},
   "source": [
    "Python has support for various fancy argument and keyword arguments. In python we might see:\n",
    "\n",
    "```python\n",
    ">>> def optional_arg(pos1, pos2, keyword1=None, keyword2=42):\n",
    "...   return [pos1, pos2, keyword1, keyword2]\n",
    "...\n",
    ">>> optional_arg(1, 2)\n",
    "[1, 2, None, 42]\n",
    ">>> optional_arg(1, 2, 3, 4)\n",
    "[1, 2, 3, 4]\n",
    ">>> optional_arg(keyword1=1, pos2=2, pos1=3, keyword2=4)\n",
    "[3, 2, 1, 4]\n",
    "```\n",
    "\n",
    "The same thing in Hy:"
   ]
  },
  {
   "cell_type": "code",
   "execution_count": 22,
   "metadata": {
    "collapsed": true
   },
   "outputs": [],
   "source": [
    "(defn optional_arg [pos1 pos2 &optional keyword1 [keyword2 42]]\n",
    "     [pos1 pos2 keyword1 keyword2])"
   ]
  },
  {
   "cell_type": "code",
   "execution_count": 23,
   "metadata": {},
   "outputs": [
    {
     "data": {
      "text/plain": [
       "[1L, 2L, None, 42L]"
      ]
     },
     "execution_count": 23,
     "metadata": {},
     "output_type": "execute_result"
    }
   ],
   "source": [
    "(optional_arg 1 2)"
   ]
  },
  {
   "cell_type": "code",
   "execution_count": 24,
   "metadata": {},
   "outputs": [
    {
     "data": {
      "text/plain": [
       "[1L, 2L, 3L, 4L]"
      ]
     },
     "execution_count": 24,
     "metadata": {},
     "output_type": "execute_result"
    }
   ],
   "source": [
    "(optional_arg 1 2 3 4)"
   ]
  },
  {
   "cell_type": "code",
   "execution_count": 25,
   "metadata": {},
   "outputs": [
    {
     "data": {
      "text/plain": [
       "[3L, 2L, 1L, 4L]"
      ]
     },
     "execution_count": 25,
     "metadata": {},
     "output_type": "execute_result"
    }
   ],
   "source": [
    "(apply optional_arg []\n",
    "    {\"keyword1\" 1\n",
    "     \"pos2\" 2\n",
    "     \"pos1\" 3\n",
    "     \"keyword2\" 4})"
   ]
  },
  {
   "cell_type": "markdown",
   "metadata": {},
   "source": [
    "See how we use apply to handle the fancy passing? :)\n",
    "\n",
    "There’s also a dictionary-style keyword arguments construction that looks like:"
   ]
  },
  {
   "cell_type": "code",
   "execution_count": 26,
   "metadata": {
    "collapsed": true
   },
   "outputs": [],
   "source": [
    "(defn another_style [&key {\"key1\" \"val1\" \"key2\" \"val2\"}]\n",
    "  [key1 key2])"
   ]
  },
  {
   "cell_type": "markdown",
   "metadata": {},
   "source": [
    "The difference here is that since it’s a dictionary, you can’t rely on any specific ordering to the arguments.\n",
    "\n",
    "Hy also supports `*args` and `**kwargs`. In Python:\n",
    "\n",
    "```python\n",
    "def some_func(foo, bar, *args, **kwargs):\n",
    "  import pprint\n",
    "  pprint.pprint((foo, bar, args, kwargs))\n",
    "```"
   ]
  },
  {
   "cell_type": "markdown",
   "metadata": {},
   "source": [
    "The Hy equivalent:"
   ]
  },
  {
   "cell_type": "code",
   "execution_count": 27,
   "metadata": {
    "collapsed": true
   },
   "outputs": [],
   "source": [
    "(defn some_func [foo bar &rest args &kwargs kwargs]\n",
    "  (import pprint)\n",
    "  (pprint.pprint (, foo bar args kwargs)))"
   ]
  },
  {
   "cell_type": "markdown",
   "metadata": {},
   "source": [
    "Finally, of course we need classes! In python we might have a class like:\n",
    "\n",
    "```python\n",
    "class FooBar(object):\n",
    "    \"\"\"\n",
    "    Yet Another Example Class\n",
    "    \"\"\"\n",
    "    def __init__(self, x):\n",
    "        self.x = x\n",
    "\n",
    "    def get_x(self):\n",
    "        \"\"\"\n",
    "        Return our copy of x\n",
    "        \"\"\"\n",
    "        return self.x\n",
    "```\n",
    "\n",
    "In Hy:"
   ]
  },
  {
   "cell_type": "code",
   "execution_count": 28,
   "metadata": {
    "collapsed": true
   },
   "outputs": [],
   "source": [
    "(defclass FooBar [object]\n",
    "  \"Yet Another Example Class\"\n",
    "  [[--init--\n",
    "    (fn [self x]\n",
    "      (setv self.x x)\n",
    "      ; Currently needed for --init-- because __init__ needs None\n",
    "      ; Hopefully this will go away :)\n",
    "      None)]\n",
    "\n",
    "   [get-x\n",
    "    (fn [self]\n",
    "      \"Return our copy of x\"\n",
    "      self.x)]])"
   ]
  },
  {
   "cell_type": "markdown",
   "metadata": {},
   "source": [
    "You can also do class-level attributes. In Python:\n",
    "\n",
    "```python\n",
    "class Customer(models.Model):\n",
    "    name = models.CharField(max_length=255)\n",
    "    address = models.TextField()\n",
    "    notes = models.TextField()\n",
    "```\n",
    "\n",
    "In Hy:"
   ]
  },
  {
   "cell_type": "code",
   "execution_count": 29,
   "metadata": {},
   "outputs": [
    {
     "ename": "NameError",
     "evalue": "name 'models' is not defined",
     "output_type": "error",
     "traceback": [
      "\u001b[1;31m---------------------------------------------------------------------------\u001b[0m",
      "\u001b[1;31mNameError\u001b[0m                                 Traceback (most recent call last)",
      "\u001b[1;32m<ipython-input-29-35a7b1279974>\u001b[0m in \u001b[0;36m<module>\u001b[1;34m()\u001b[0m\n\u001b[0;32m      2\u001b[0m \u001b[1;33m\u001b[0m\u001b[0m\n\u001b[0;32m      3\u001b[0m \u001b[1;33m\u001b[0m\u001b[0m\n\u001b[1;32m----> 4\u001b[1;33m \u001b[1;32mclass\u001b[0m \u001b[0mCustomer\u001b[0m\u001b[1;33m(\u001b[0m\u001b[0mmodels\u001b[0m\u001b[1;33m.\u001b[0m\u001b[0mModel\u001b[0m\u001b[1;33m)\u001b[0m\u001b[1;33m:\u001b[0m\u001b[1;33m\u001b[0m\u001b[0m\n\u001b[0m\u001b[0;32m      5\u001b[0m     \u001b[0mname\u001b[0m \u001b[1;33m=\u001b[0m \u001b[0mmodels\u001b[0m\u001b[1;33m.\u001b[0m\u001b[0mCharField\u001b[0m\u001b[1;33m(\u001b[0m\u001b[1;33m*\u001b[0m\u001b[1;33m[\u001b[0m\u001b[1;33m]\u001b[0m\u001b[1;33m,\u001b[0m \u001b[1;33m**\u001b[0m\u001b[1;33m{\u001b[0m\u001b[1;34mu'max_length'\u001b[0m\u001b[1;33m:\u001b[0m \u001b[1;36m255L\u001b[0m\u001b[1;33m,\u001b[0m \u001b[1;33m}\u001b[0m\u001b[1;33m)\u001b[0m\u001b[1;33m\u001b[0m\u001b[0m\n\u001b[0;32m      6\u001b[0m     \u001b[0maddress\u001b[0m \u001b[1;33m=\u001b[0m \u001b[0mmodels\u001b[0m\u001b[1;33m.\u001b[0m\u001b[0mTextField\u001b[0m\u001b[1;33m(\u001b[0m\u001b[1;33m)\u001b[0m\u001b[1;33m\u001b[0m\u001b[0m\n",
      "\u001b[1;31mNameError\u001b[0m: name 'models' is not defined"
     ]
    }
   ],
   "source": [
    "(defclass Customer [models.Model]\n",
    "  [[name (apply models.CharField [] {\"max_length\" 255})]\n",
    "   [address (models.TextField)]\n",
    "   [notes (models.TextField)]])"
   ]
  },
  {
   "cell_type": "markdown",
   "metadata": {},
   "source": [
    "## Protips!"
   ]
  },
  {
   "cell_type": "markdown",
   "metadata": {},
   "source": [
    "Hy also features something known as the “threading macro”, a really neat feature of Clojure’s. The “threading macro” (written as “->”), is used to avoid deep nesting of expressions.\n",
    "\n",
    "The threading macro inserts each expression into the next expression’s first argument place.\n",
    "\n",
    "Let’s take the classic:"
   ]
  },
  {
   "cell_type": "code",
   "execution_count": 30,
   "metadata": {},
   "outputs": [
    {
     "ename": "SyntaxError",
     "evalue": "invalid syntax (<ipython-input-30-bb1a3605dddd>, line 3)",
     "output_type": "error",
     "traceback": [
      "\u001b[1;36m  File \u001b[1;32m\"<ipython-input-30-bb1a3605dddd>\"\u001b[1;36m, line \u001b[1;32m3\u001b[0m\n\u001b[1;33m    loop(print(hy_eval(read(), locals(), u'__console__')))\u001b[0m\n\u001b[1;37m             ^\u001b[0m\n\u001b[1;31mSyntaxError\u001b[0m\u001b[1;31m:\u001b[0m invalid syntax\n"
     ]
    }
   ],
   "source": [
    "(loop (print (eval (read))))"
   ]
  },
  {
   "cell_type": "markdown",
   "metadata": {},
   "source": [
    "Rather than write it like that, we can write it as follows:"
   ]
  },
  {
   "cell_type": "code",
   "execution_count": 31,
   "metadata": {},
   "outputs": [
    {
     "ename": "SyntaxError",
     "evalue": "invalid syntax (<ipython-input-31-bb1a3605dddd>, line 3)",
     "output_type": "error",
     "traceback": [
      "\u001b[1;36m  File \u001b[1;32m\"<ipython-input-31-bb1a3605dddd>\"\u001b[1;36m, line \u001b[1;32m3\u001b[0m\n\u001b[1;33m    loop(print(hy_eval(read(), locals(), u'__console__')))\u001b[0m\n\u001b[1;37m             ^\u001b[0m\n\u001b[1;31mSyntaxError\u001b[0m\u001b[1;31m:\u001b[0m invalid syntax\n"
     ]
    }
   ],
   "source": [
    "(-> (read) (eval) (print) (loop))"
   ]
  },
  {
   "cell_type": "markdown",
   "metadata": {},
   "source": [
    "Now, using [python-sh](http://amoffat.github.com/sh/), we can show how the threading macro (because of python-sh’s setup) can be used like a pipe:"
   ]
  },
  {
   "cell_type": "code",
   "execution_count": 32,
   "metadata": {},
   "outputs": [
    {
     "ename": "ImportError",
     "evalue": "No module named sh",
     "output_type": "error",
     "traceback": [
      "\u001b[1;31m---------------------------------------------------------------------------\u001b[0m",
      "\u001b[1;31mImportError\u001b[0m                               Traceback (most recent call last)",
      "\u001b[1;32m<ipython-input-32-1fe3ca4d5893>\u001b[0m in \u001b[0;36m<module>\u001b[1;34m()\u001b[0m\n\u001b[1;32m----> 1\u001b[1;33m \u001b[1;32mfrom\u001b[0m \u001b[0msh\u001b[0m \u001b[1;32mimport\u001b[0m \u001b[0mcat\u001b[0m\u001b[1;33m,\u001b[0m \u001b[0mgrep\u001b[0m\u001b[1;33m,\u001b[0m \u001b[0mwc\u001b[0m\u001b[1;33m\u001b[0m\u001b[0m\n\u001b[0m\u001b[0;32m      2\u001b[0m \u001b[0mwc\u001b[0m\u001b[1;33m(\u001b[0m\u001b[0mgrep\u001b[0m\u001b[1;33m(\u001b[0m\u001b[0mcat\u001b[0m\u001b[1;33m(\u001b[0m\u001b[1;34mu'/usr/share/dict/words'\u001b[0m\u001b[1;33m)\u001b[0m\u001b[1;33m,\u001b[0m \u001b[1;34mu'-E'\u001b[0m\u001b[1;33m,\u001b[0m \u001b[1;34mu'^hy'\u001b[0m\u001b[1;33m)\u001b[0m\u001b[1;33m,\u001b[0m \u001b[1;34mu'-l'\u001b[0m\u001b[1;33m)\u001b[0m\u001b[1;33m\u001b[0m\u001b[0m\n",
      "\u001b[1;31mImportError\u001b[0m: No module named sh"
     ]
    }
   ],
   "source": [
    "(import [sh [cat grep wc]])\n",
    "(-> (cat \"/usr/share/dict/words\") (grep \"-E\" \"^hy\") (wc \"-l\"))"
   ]
  },
  {
   "cell_type": "markdown",
   "metadata": {},
   "source": [
    "Which, of course, expands out to:"
   ]
  },
  {
   "cell_type": "code",
   "execution_count": 33,
   "metadata": {},
   "outputs": [
    {
     "ename": "NameError",
     "evalue": "name 'wc' is not defined",
     "output_type": "error",
     "traceback": [
      "\u001b[1;31m---------------------------------------------------------------------------\u001b[0m",
      "\u001b[1;31mNameError\u001b[0m                                 Traceback (most recent call last)",
      "\u001b[1;32m<ipython-input-33-aeda69fd5761>\u001b[0m in \u001b[0;36m<module>\u001b[1;34m()\u001b[0m\n\u001b[1;32m----> 1\u001b[1;33m \u001b[0mwc\u001b[0m\u001b[1;33m(\u001b[0m\u001b[0mgrep\u001b[0m\u001b[1;33m(\u001b[0m\u001b[0mcat\u001b[0m\u001b[1;33m(\u001b[0m\u001b[1;34mu'/usr/share/dict/words'\u001b[0m\u001b[1;33m)\u001b[0m\u001b[1;33m,\u001b[0m \u001b[1;34mu'-E'\u001b[0m\u001b[1;33m,\u001b[0m \u001b[1;34mu'^hy'\u001b[0m\u001b[1;33m)\u001b[0m\u001b[1;33m,\u001b[0m \u001b[1;34mu'-l'\u001b[0m\u001b[1;33m)\u001b[0m\u001b[1;33m\u001b[0m\u001b[0m\n\u001b[0m",
      "\u001b[1;31mNameError\u001b[0m: name 'wc' is not defined"
     ]
    }
   ],
   "source": [
    "(wc (grep (cat \"/usr/share/dict/words\") \"-E\" \"^hy\") \"-l\")"
   ]
  },
  {
   "cell_type": "markdown",
   "metadata": {},
   "source": [
    "Much more readable, no? Use the threading macro!"
   ]
  }
 ],
 "metadata": {
  "kernelspec": {
   "display_name": "Hy",
   "language": "hy",
   "name": "hy"
  },
  "language_info": {
   "codemirror_mode": {
    "name": "hy"
   },
   "mimetype": "text/x-hylang",
   "name": "hy",
   "pygments_lexer": "ipython3"
  }
 },
 "nbformat": 4,
 "nbformat_minor": 1
}
