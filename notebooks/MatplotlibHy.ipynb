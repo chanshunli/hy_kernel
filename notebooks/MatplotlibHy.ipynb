{
 "cells": [
  {
   "cell_type": "code",
   "execution_count": 1,
   "metadata": {},
   "outputs": [
    {
     "name": "stderr",
     "output_type": "stream",
     "text": [
      "/data/data/com.termux/files/home/hy_kernel/hy_kernel/hy_kernel.py:118: DeprecationWarning: astor.codegen is deprecated.  Please use astor.code_gen.\n",
      "  return astor.codegen.to_source(_ast_for_print)\n"
     ]
    },
    {
     "data": {
      "text/plain": [
       "[101]"
      ]
     },
     "execution_count": 1,
     "metadata": {},
     "output_type": "execute_result"
    }
   ],
   "source": [
    "(first\n",
    " (map (fn [x]\n",
    "        (do\n",
    "         (setv y 100)\n",
    "         (+ x y))) [1 2 5 6]))"
   ]
  },
  {
   "cell_type": "code",
   "execution_count": 2,
   "metadata": {},
   "outputs": [
    {
     "name": "stderr",
     "output_type": "stream",
     "text": [
      "/data/data/com.termux/files/home/hy_kernel/hy_kernel/hy_kernel.py:118: DeprecationWarning: astor.codegen is deprecated.  Please use astor.code_gen.\n",
      "  return astor.codegen.to_source(_ast_for_print)\n"
     ]
    },
    {
     "data": {
      "text/plain": [
       "[3]"
      ]
     },
     "execution_count": 2,
     "metadata": {},
     "output_type": "execute_result"
    }
   ],
   "source": [
    "(+ 1 2)"
   ]
  },
  {
   "cell_type": "code",
   "execution_count": 3,
   "metadata": {},
   "outputs": [
    {
     "name": "stderr",
     "output_type": "stream",
     "text": [
      "/data/data/com.termux/files/home/hy_kernel/hy_kernel/hy_kernel.py:118: DeprecationWarning: astor.codegen is deprecated.  Please use astor.code_gen.\n",
      "  return astor.codegen.to_source(_ast_for_print)\n"
     ]
    },
    {
     "data": {
      "text/plain": [
       "[None]"
      ]
     },
     "execution_count": 3,
     "metadata": {},
     "output_type": "execute_result"
    }
   ],
   "source": [
    "(import [numpy :as np])"
   ]
  },
  {
   "cell_type": "code",
   "execution_count": null,
   "metadata": {},
   "outputs": [],
   "source": []
  },
  {
   "cell_type": "code",
   "execution_count": 4,
   "metadata": {},
   "outputs": [
    {
     "name": "stderr",
     "output_type": "stream",
     "text": [
      "/data/data/com.termux/files/home/hy_kernel/hy_kernel/hy_kernel.py:118: DeprecationWarning: astor.codegen is deprecated.  Please use astor.code_gen.\n",
      "  return astor.codegen.to_source(_ast_for_print)\n"
     ]
    },
    {
     "data": {
      "text/plain": [
       "[None]"
      ]
     },
     "execution_count": 4,
     "metadata": {},
     "output_type": "execute_result"
    }
   ],
   "source": [
    "(setv a (np.array [1 2 3]))"
   ]
  },
  {
   "cell_type": "code",
   "execution_count": 5,
   "metadata": {},
   "outputs": [
    {
     "name": "stderr",
     "output_type": "stream",
     "text": [
      "/data/data/com.termux/files/home/hy_kernel/hy_kernel/hy_kernel.py:118: DeprecationWarning: astor.codegen is deprecated.  Please use astor.code_gen.\n",
      "  return astor.codegen.to_source(_ast_for_print)\n"
     ]
    },
    {
     "data": {
      "text/plain": [
       "[numpy.ndarray]"
      ]
     },
     "execution_count": 5,
     "metadata": {},
     "output_type": "execute_result"
    }
   ],
   "source": [
    "(type a)"
   ]
  },
  {
   "cell_type": "code",
   "execution_count": 6,
   "metadata": {},
   "outputs": [
    {
     "name": "stderr",
     "output_type": "stream",
     "text": [
      "/data/data/com.termux/files/home/hy_kernel/hy_kernel/hy_kernel.py:118: DeprecationWarning: astor.codegen is deprecated.  Please use astor.code_gen.\n",
      "  return astor.codegen.to_source(_ast_for_print)\n"
     ]
    },
    {
     "data": {
      "text/plain": [
       "[(3,)]"
      ]
     },
     "execution_count": 6,
     "metadata": {},
     "output_type": "execute_result"
    }
   ],
   "source": [
    "a.shape"
   ]
  },
  {
   "cell_type": "code",
   "execution_count": 7,
   "metadata": {},
   "outputs": [
    {
     "name": "stdout",
     "output_type": "stream",
     "text": [
      "[1 2 3] [0] [1 2 3] [1] [1 2 3] [2]\n"
     ]
    },
    {
     "name": "stderr",
     "output_type": "stream",
     "text": [
      "/data/data/com.termux/files/home/hy_kernel/hy_kernel/hy_kernel.py:118: DeprecationWarning: astor.codegen is deprecated.  Please use astor.code_gen.\n",
      "  return astor.codegen.to_source(_ast_for_print)\n"
     ]
    },
    {
     "data": {
      "text/plain": [
       "[None]"
      ]
     },
     "execution_count": 7,
     "metadata": {},
     "output_type": "execute_result"
    }
   ],
   "source": [
    " (print a[0] a[1] a[2])"
   ]
  },
  {
   "cell_type": "code",
   "execution_count": 8,
   "metadata": {},
   "outputs": [
    {
     "name": "stderr",
     "output_type": "stream",
     "text": [
      "/data/data/com.termux/files/home/hy_kernel/hy_kernel/hy_kernel.py:118: DeprecationWarning: astor.codegen is deprecated.  Please use astor.code_gen.\n",
      "  return astor.codegen.to_source(_ast_for_print)\n"
     ]
    },
    {
     "data": {
      "text/plain": [
       "[array([1, 2, 3]), [0]]"
      ]
     },
     "execution_count": 8,
     "metadata": {},
     "output_type": "execute_result"
    }
   ],
   "source": [
    "a[0]"
   ]
  },
  {
   "cell_type": "code",
   "execution_count": 9,
   "metadata": {},
   "outputs": [
    {
     "name": "stderr",
     "output_type": "stream",
     "text": [
      "/data/data/com.termux/files/home/hy_kernel/hy_kernel/hy_kernel.py:118: DeprecationWarning: astor.codegen is deprecated.  Please use astor.code_gen.\n",
      "  return astor.codegen.to_source(_ast_for_print)\n"
     ]
    },
    {
     "data": {
      "text/plain": [
       "[None]"
      ]
     },
     "execution_count": 9,
     "metadata": {},
     "output_type": "execute_result"
    }
   ],
   "source": [
    "(import [matplotlib.pyplot :as plt])"
   ]
  },
  {
   "cell_type": "code",
   "execution_count": 10,
   "metadata": {},
   "outputs": [
    {
     "name": "stderr",
     "output_type": "stream",
     "text": [
      "/data/data/com.termux/files/home/hy_kernel/hy_kernel/hy_kernel.py:118: DeprecationWarning: astor.codegen is deprecated.  Please use astor.code_gen.\n",
      "  return astor.codegen.to_source(_ast_for_print)\n"
     ]
    },
    {
     "data": {
      "text/plain": [
       "[[<matplotlib.lines.Line2D at 0x726a3a2eb8>]]"
      ]
     },
     "execution_count": 10,
     "metadata": {},
     "output_type": "execute_result"
    },
    {
     "data": {
      "image/png": "[encoded data removed]",
      "text/plain": [
       "<Figure size 432x288 with 1 Axes>"
      ]
     },
     "metadata": {},
     "output_type": "display_data"
    }
   ],
   "source": [
    "(plt.plot [1 2 4 8])"
   ]
  },
  {
   "cell_type": "code",
   "execution_count": 11,
   "metadata": {},
   "outputs": [
    {
     "name": "stderr",
     "output_type": "stream",
     "text": [
      "/data/data/com.termux/files/home/hy_kernel/hy_kernel/hy_kernel.py:118: DeprecationWarning: astor.codegen is deprecated.  Please use astor.code_gen.\n",
      "  return astor.codegen.to_source(_ast_for_print)\n"
     ]
    },
    {
     "data": {
      "text/plain": [
       "[Text(0.5,0,'x')]"
      ]
     },
     "execution_count": 11,
     "metadata": {},
     "output_type": "execute_result"
    },
    {
     "data": {
      "image/png": "[encoded data removed]",
      "text/plain": [
       "<Figure size 432x288 with 1 Axes>"
      ]
     },
     "metadata": {},
     "output_type": "display_data"
    }
   ],
   "source": [
    "(plt.xlabel \"x\")"
   ]
  },
  {
   "cell_type": "code",
   "execution_count": 12,
   "metadata": {},
   "outputs": [
    {
     "name": "stderr",
     "output_type": "stream",
     "text": [
      "/data/data/com.termux/files/home/hy_kernel/hy_kernel/hy_kernel.py:118: DeprecationWarning: astor.codegen is deprecated.  Please use astor.code_gen.\n",
      "  return astor.codegen.to_source(_ast_for_print)\n"
     ]
    },
    {
     "data": {
      "text/plain": [
       "[Text(0,0.5,'y')]"
      ]
     },
     "execution_count": 12,
     "metadata": {},
     "output_type": "execute_result"
    },
    {
     "data": {
      "image/png": "[encoded data removed]",
      "text/plain": [
       "<Figure size 432x288 with 1 Axes>"
      ]
     },
     "metadata": {},
     "output_type": "display_data"
    }
   ],
   "source": [
    "(plt.ylabel \"y\")"
   ]
  },
  {
   "cell_type": "code",
   "execution_count": 13,
   "metadata": {},
   "outputs": [
    {
     "name": "stderr",
     "output_type": "stream",
     "text": [
      "/data/data/com.termux/files/home/hy_kernel/hy_kernel/hy_kernel.py:118: DeprecationWarning: astor.codegen is deprecated.  Please use astor.code_gen.\n",
      "  return astor.codegen.to_source(_ast_for_print)\n"
     ]
    },
    {
     "data": {
      "text/plain": [
       "[None]"
      ]
     },
     "execution_count": 13,
     "metadata": {},
     "output_type": "execute_result"
    },
    {
     "data": {
      "text/plain": [
       "<Figure size 432x288 with 0 Axes>"
      ]
     },
     "metadata": {},
     "output_type": "display_data"
    }
   ],
   "source": [
    "(plt.savefig \"hy-test.png\")"
   ]
  },
  {
   "cell_type": "code",
   "execution_count": null,
   "metadata": {},
   "outputs": [],
   "source": []
  }
 ],
 "metadata": {
  "kernelspec": {
   "display_name": "Hy",
   "language": "hy",
   "name": "hy"
  },
  "language_info": {
   "codemirror_mode": {
    "name": "hy"
   },
   "mimetype": "text/x-hylang",
   "name": "hy",
   "pygments_lexer": "ipython3"
  }
 },
 "nbformat": 4,
 "nbformat_minor": 2
}
